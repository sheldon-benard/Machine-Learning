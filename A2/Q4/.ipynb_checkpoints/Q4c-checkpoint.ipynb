{
 "cells": [
  {
   "cell_type": "code",
   "execution_count": 18,
   "metadata": {
    "collapsed": true
   },
   "outputs": [],
   "source": [
    "import numpy as np\n",
    "from matplotlib import pyplot as plt\n",
    "np.random.seed(0)"
   ]
  },
  {
   "cell_type": "code",
   "execution_count": 19,
   "metadata": {
    "collapsed": true
   },
   "outputs": [],
   "source": [
    "def Poisson_TS(episodes, beta, alpha):\n",
    "    a = [0,0,0,0,0]\n",
    "    b = [0,0,0,0,0]\n",
    "    act_rates = [1,2,3,4,5]\n",
    "    regret = []\n",
    "    \n",
    "    for t in range(0,episodes):\n",
    "        rates = []\n",
    "        for k in range(0,5):\n",
    "            rates.append(np.random.gamma(alpha + a[k],1/(beta + b[k])))\n",
    "        i = np.argmax(rates)\n",
    "        rate = act_rates[i]\n",
    "        reward = np.random.poisson(rate)\n",
    "        if t == 0:\n",
    "            regret.append(5 - act_rates[i])\n",
    "        else:\n",
    "            regret.append(5 - act_rates[i] + regret[t-1])\n",
    "        \n",
    "        a[i] = a[i] + reward\n",
    "        b[i] = b[i] + 1\n",
    "    return regret"
   ]
  },
  {
   "cell_type": "markdown",
   "metadata": {},
   "source": [
    "#### Cumulative Regret \n",
    "\n",
    "$R_n = n*\\mu^* - \\sum_{t=1}^{n}\\mu_t$ where $\\mu^*$ is the optimal arm mean ($ = 5$ in our case) and $\\mu_t$ is the expected reward at time t."
   ]
  },
  {
   "cell_type": "code",
   "execution_count": 20,
   "metadata": {
    "collapsed": true
   },
   "outputs": [],
   "source": [
    "regret = []\n",
    "for i in range(20):\n",
    "    regret.append(Poisson_TS(10000,1,1))"
   ]
  },
  {
   "cell_type": "code",
   "execution_count": 21,
   "metadata": {
    "collapsed": true
   },
   "outputs": [],
   "source": [
    "regret = np.array(regret)"
   ]
  },
  {
   "cell_type": "code",
   "execution_count": 22,
   "metadata": {},
   "outputs": [],
   "source": [
    "x = np.arange(0,10000,1)\n",
    "aveCumulativeRegret = np.mean(regret, axis=0)\n",
    "\n",
    "# get index of min,max cumulative regret\n",
    "maxCumulative = np.max(regret,axis=0)[-1]\n",
    "minCumulative = np.min(regret,axis=0)[-1]\n",
    "\n",
    "maxIndex = -1\n",
    "minIndex = -1\n",
    "\n",
    "for i in range(len(regret)):\n",
    "    if maxCumulative == regret[i][-1]:\n",
    "        maxIndex = i\n",
    "    if minCumulative == regret[i][-1]:\n",
    "        minIndex = i\n",
    "\n",
    "worstCumulativeRegret = regret[maxIndex]\n",
    "bestCumulativeRegret = regret[minIndex]"
   ]
  },
  {
   "cell_type": "code",
   "execution_count": 23,
   "metadata": {},
   "outputs": [
    {
     "data": {
      "image/png": "[encoded data removed]",
      "text/plain": [
       "<matplotlib.figure.Figure at 0x118b67668>"
      ]
     },
     "metadata": {},
     "output_type": "display_data"
    }
   ],
   "source": [
    "plt.plot(x,aveCumulativeRegret,label=\"Average\")\n",
    "plt.plot(x,bestCumulativeRegret,label=\"Best\")\n",
    "plt.plot(x,worstCumulativeRegret,label=\"Worst\")\n",
    "plt.legend()\n",
    "plt.show()"
   ]
  },
  {
   "cell_type": "markdown",
   "metadata": {},
   "source": [
    "The prior parameters for the $\\gamma$-distribution are ($\\alpha$,$\\beta$). $\\alpha$ is the shape parameter, and $\\theta$ is the scale parameter, $\\theta = \\frac{1}{\\beta}$. Thus, $\\beta$ cannot be initialized to 0. \n",
    "\n",
    "Moreover, if one samples the rates from $\\gamma(\\alpha=1,\\beta=1)$ (i.e. alpha and beta are initialized to 1), then there's a higher chance that smaller numbers will be sampled. In the earlier trials, this encourages exploration of the machines with sub-optimal expected rewards, since it takes more time for machine 5 ($\\mu^* = 5$) to dominate. As such, this shows that the algorithm implementation is correct and that Thomson Sampling works, since, ultimately, the cumulative rewards flatten out (i.e. for each episode, $\\mu^* - r_t \\approx 0$, and thus the action is optimal)."
   ]
  },
  {
   "cell_type": "code",
   "execution_count": null,
   "metadata": {
    "collapsed": true
   },
   "outputs": [],
   "source": []
  }
 ],
 "metadata": {
  "kernelspec": {
   "display_name": "Python 3",
   "language": "python",
   "name": "python3"
  },
  "language_info": {
   "codemirror_mode": {
    "name": "ipython",
    "version": 3
   },
   "file_extension": ".py",
   "mimetype": "text/x-python",
   "name": "python",
   "nbconvert_exporter": "python",
   "pygments_lexer": "ipython3",
   "version": "3.6.3"
  }
 },
 "nbformat": 4,
 "nbformat_minor": 2
}
